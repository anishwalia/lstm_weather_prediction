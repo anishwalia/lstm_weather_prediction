{
 "cells": [
  {
   "cell_type": "code",
   "execution_count": 0,
   "metadata": {
    "colab": {},
    "colab_type": "code",
    "id": "XO13NxAoubAe"
   },
   "outputs": [],
   "source": [
    "#Importing the libraries"
   ]
  },
  {
   "cell_type": "code",
   "execution_count": 0,
   "metadata": {
    "colab": {},
    "colab_type": "code",
    "id": "sjdaeKqNubAj"
   },
   "outputs": [],
   "source": [
    "import numpy as np\n",
    "import pandas as pd\n",
    "import matplotlib.pyplot as plt\n",
    "%matplotlib inline"
   ]
  },
  {
   "cell_type": "code",
   "execution_count": 0,
   "metadata": {
    "colab": {},
    "colab_type": "code",
    "id": "Jn-ePIwOubAm"
   },
   "outputs": [],
   "source": [
    "#Importing the data sets"
   ]
  },
  {
   "cell_type": "code",
   "execution_count": 39,
   "metadata": {
    "colab": {
     "base_uri": "https://localhost:8080/",
     "height": 272
    },
    "colab_type": "code",
    "id": "uL5pjHDcubAp",
    "outputId": "0f25dc09-6c32-4b78-db18-be6d59f33aae"
   },
   "outputs": [
    {
     "name": "stdout",
     "output_type": "stream",
     "text": [
      "     Unnamed: 1  Precipitation  ...  Vapour Pressure  Wet Day Frequency\n",
      "1901        Jan          5.751  ...           17.237             0.9999\n",
      "1901        Feb         17.962  ...           17.045             1.2347\n",
      "1901        Mar          1.671  ...           17.911             0.4648\n",
      "1901        Apr         32.943  ...           21.781             1.9712\n",
      "1901        May        152.546  ...           22.875             4.7063\n",
      "...         ...            ...  ...              ...                ...\n",
      "2002        Aug         40.268  ...           23.387             5.0300\n",
      "2002        Sep         60.213  ...           24.917             4.7222\n",
      "2002        Oct        183.967  ...           22.751             9.4179\n",
      "2002        Nov         35.172  ...           20.605             3.4919\n",
      "2002        Dec          4.541  ...           18.461             1.0509\n",
      "\n",
      "[1224 rows x 12 columns]\n"
     ]
    }
   ],
   "source": [
    "dataset= pd.read_excel(\"Bangalore_Consolidated.xlsx\", header=0, index_col=0)\n",
    "print(dataset)"
   ]
  },
  {
   "cell_type": "code",
   "execution_count": 158,
   "metadata": {
    "colab": {
     "base_uri": "https://localhost:8080/",
     "height": 254
    },
    "colab_type": "code",
    "id": "3KywtLHGubAs",
    "outputId": "15d4a665-3abb-43f3-e860-2af2b8d02550"
   },
   "outputs": [
    {
     "name": "stdout",
     "output_type": "stream",
     "text": [
      "1901    Jan\n",
      "1901    Feb\n",
      "1901    Mar\n",
      "1901    Apr\n",
      "1901    May\n",
      "       ... \n",
      "2002    Aug\n",
      "2002    Sep\n",
      "2002    Oct\n",
      "2002    Nov\n",
      "2002    Dec\n",
      "Name: Unnamed: 1, Length: 1224, dtype: object\n"
     ]
    },
    {
     "data": {
      "text/plain": [
       "numpy.ndarray"
      ]
     },
     "execution_count": 158,
     "metadata": {
      "tags": []
     },
     "output_type": "execute_result"
    }
   ],
   "source": [
    "print(dataset.iloc[:,0])"
   ]
  },
  {
   "cell_type": "markdown",
   "metadata": {
    "colab_type": "text",
    "id": "JulSnvbdvpfy"
   },
   "source": []
  },
  {
   "cell_type": "code",
   "execution_count": 60,
   "metadata": {
    "colab": {
     "base_uri": "https://localhost:8080/",
     "height": 146
    },
    "colab_type": "code",
    "id": "cbGunT1KvrCP",
    "outputId": "3026804f-e005-4e92-900e-92357f4e7598"
   },
   "outputs": [
    {
     "name": "stderr",
     "output_type": "stream",
     "text": [
      "/usr/local/lib/python3.6/dist-packages/sklearn/preprocessing/_encoders.py:415: FutureWarning: The handling of integer data will change in version 0.22. Currently, the categories are determined based on the range [0, max(values)], while in the future they will be determined based on the unique values.\n",
      "If you want the future behaviour and silence this warning, you can specify \"categories='auto'\".\n",
      "In case you used a LabelEncoder before this OneHotEncoder to convert the categories to integers, then you can now use the OneHotEncoder directly.\n",
      "  warnings.warn(msg, FutureWarning)\n",
      "/usr/local/lib/python3.6/dist-packages/sklearn/preprocessing/_encoders.py:451: DeprecationWarning: The 'categorical_features' keyword is deprecated in version 0.20 and will be removed in 0.22. You can use the ColumnTransformer instead.\n",
      "  \"use the ColumnTransformer instead.\", DeprecationWarning)\n"
     ]
    }
   ],
   "source": [
    "from sklearn.preprocessing import LabelEncoder, OneHotEncoder\n",
    "encoder = LabelEncoder()\n",
    "values = dataset.values\n",
    "values[:,0] = encoder.fit_transform(values[:,0])\n",
    "onehotencoder = OneHotEncoder(categorical_features = [0])\n",
    "values = onehotencoder.fit_transform(values).toarray()\n"
   ]
  },
  {
   "cell_type": "code",
   "execution_count": 61,
   "metadata": {
    "colab": {
     "base_uri": "https://localhost:8080/",
     "height": 145
    },
    "colab_type": "code",
    "id": "GB5A9lncubAw",
    "outputId": "138edb02-15e7-4db3-9aac-bc4d7f0c10bb"
   },
   "outputs": [
    {
     "name": "stdout",
     "output_type": "stream",
     "text": [
      "[[ 0.      0.      0.     ...  3.99   17.237   0.9999]\n",
      " [ 0.      0.      0.     ...  4.69   17.045   1.2347]\n",
      " [ 0.      0.      0.     ...  5.41   17.911   0.4648]\n",
      " ...\n",
      " [ 0.      0.      0.     ...  4.17   22.751   9.4179]\n",
      " [ 0.      0.      0.     ...  3.73   20.605   3.4919]\n",
      " [ 0.      0.      1.     ...  3.6    18.461   1.0509]]\n"
     ]
    }
   ],
   "source": [
    "#Splitting the data set into train and test set\n",
    "print(values[:,:])"
   ]
  },
  {
   "cell_type": "code",
   "execution_count": 124,
   "metadata": {
    "colab": {
     "base_uri": "https://localhost:8080/",
     "height": 145
    },
    "colab_type": "code",
    "id": "f-VW_3FOubA0",
    "outputId": "51b8b147-da5a-4fd2-b0b6-4733101443ca"
   },
   "outputs": [
    {
     "name": "stdout",
     "output_type": "stream",
     "text": [
      "[[ 0.      0.      0.     ...  3.99   17.237   0.9999]\n",
      " [ 0.      0.      0.     ...  4.69   17.045   1.2347]\n",
      " [ 0.      0.      0.     ...  5.41   17.911   0.4648]\n",
      " ...\n",
      " [ 0.      0.      0.     ...  4.61   17.991   1.3227]\n",
      " [ 0.      0.      0.     ...  5.41   19.256   2.7647]\n",
      " [ 1.      0.      0.     ...  5.81   21.781   3.1145]]\n"
     ]
    }
   ],
   "source": [
    "dataset_train = values[:1000, :]\n",
    "\n",
    "#dataset_train.astype('float32')\n",
    "print(dataset_train)"
   ]
  },
  {
   "cell_type": "code",
   "execution_count": 0,
   "metadata": {
    "colab": {},
    "colab_type": "code",
    "id": "E1yW7W8mubA3"
   },
   "outputs": [],
   "source": [
    "dataset_test = values[1000:, :]"
   ]
  },
  {
   "cell_type": "code",
   "execution_count": 126,
   "metadata": {
    "colab": {
     "base_uri": "https://localhost:8080/",
     "height": 145
    },
    "colab_type": "code",
    "id": "0jTuiwj9_nTV",
    "outputId": "6256d1f4-286c-444b-c077-068e19658786"
   },
   "outputs": [
    {
     "name": "stdout",
     "output_type": "stream",
     "text": [
      "[[ 0.      0.      0.     ...  5.75   23.565   3.5322]\n",
      " [ 0.      0.      0.     ...  4.65   23.523   4.2019]\n",
      " [ 0.      0.      0.     ...  4.33   23.32    8.7236]\n",
      " ...\n",
      " [ 0.      0.      0.     ...  4.17   22.751   9.4179]\n",
      " [ 0.      0.      0.     ...  3.73   20.605   3.4919]\n",
      " [ 0.      0.      1.     ...  3.6    18.461   1.0509]]\n"
     ]
    }
   ],
   "source": [
    "print(dataset_test)"
   ]
  },
  {
   "cell_type": "code",
   "execution_count": 224,
   "metadata": {
    "colab": {
     "base_uri": "https://localhost:8080/",
     "height": 35
    },
    "colab_type": "code",
    "id": "cgqIfOiJubA8",
    "outputId": "62afba7a-138d-4498-cd61-0a008242e315"
   },
   "outputs": [
    {
     "data": {
      "text/plain": [
       "(1000, 23)"
      ]
     },
     "execution_count": 224,
     "metadata": {
      "tags": []
     },
     "output_type": "execute_result"
    }
   ],
   "source": [
    "dataset_train.shape"
   ]
  },
  {
   "cell_type": "code",
   "execution_count": 97,
   "metadata": {
    "colab": {
     "base_uri": "https://localhost:8080/",
     "height": 35
    },
    "colab_type": "code",
    "id": "SXMzIabMubA_",
    "outputId": "b6703834-514b-4547-f38c-71a24d1d435f"
   },
   "outputs": [
    {
     "data": {
      "text/plain": [
       "(224, 23)"
      ]
     },
     "execution_count": 97,
     "metadata": {
      "tags": []
     },
     "output_type": "execute_result"
    }
   ],
   "source": [
    "dataset_test.shape"
   ]
  },
  {
   "cell_type": "code",
   "execution_count": 0,
   "metadata": {
    "colab": {},
    "colab_type": "code",
    "id": "cUIeSuTzubBC"
   },
   "outputs": [],
   "source": [
    "#Converting data frames into numpy arrays"
   ]
  },
  {
   "cell_type": "code",
   "execution_count": 0,
   "metadata": {
    "colab": {},
    "colab_type": "code",
    "id": "TCeB2yQkubBE"
   },
   "outputs": [],
   "source": [
    "training_set = dataset_train[:,:]"
   ]
  },
  {
   "cell_type": "code",
   "execution_count": 0,
   "metadata": {
    "colab": {},
    "colab_type": "code",
    "id": "aTuWSRCCADqp"
   },
   "outputs": [],
   "source": [
    "test_set = dataset_test[:, 0:1]"
   ]
  },
  {
   "cell_type": "code",
   "execution_count": 0,
   "metadata": {
    "colab": {},
    "colab_type": "code",
    "id": "PI9QR6q_ubBI"
   },
   "outputs": [],
   "source": [
    "#Feature Scaling"
   ]
  },
  {
   "cell_type": "code",
   "execution_count": 0,
   "metadata": {
    "colab": {},
    "colab_type": "code",
    "id": "d1_q-ojqubBL"
   },
   "outputs": [],
   "source": [
    "from sklearn.preprocessing import MinMaxScaler"
   ]
  },
  {
   "cell_type": "code",
   "execution_count": 0,
   "metadata": {
    "colab": {},
    "colab_type": "code",
    "id": "k0bb-ZizubBN"
   },
   "outputs": [],
   "source": [
    "sc = MinMaxScaler(feature_range=(0,1))"
   ]
  },
  {
   "cell_type": "code",
   "execution_count": 229,
   "metadata": {
    "colab": {
     "base_uri": "https://localhost:8080/",
     "height": 35
    },
    "colab_type": "code",
    "id": "mevkE1TeMCHx",
    "outputId": "2e007a2d-04f5-4971-e08b-275bbd2355d8"
   },
   "outputs": [
    {
     "data": {
      "text/plain": [
       "5.751"
      ]
     },
     "execution_count": 229,
     "metadata": {
      "tags": []
     },
     "output_type": "execute_result"
    }
   ],
   "source": [
    "training_set[0,12]"
   ]
  },
  {
   "cell_type": "code",
   "execution_count": 0,
   "metadata": {
    "colab": {},
    "colab_type": "code",
    "id": "GyuDVCZgL6cA"
   },
   "outputs": [],
   "source": [
    "rainfall_max = max(training_set[:,12])\n",
    "rainfall_min = min(training_set[:,12])"
   ]
  },
  {
   "cell_type": "code",
   "execution_count": 0,
   "metadata": {
    "colab": {},
    "colab_type": "code",
    "id": "tTCB0diDubBQ"
   },
   "outputs": [],
   "source": [
    "training_set_scaled = sc.fit_transform(training_set)"
   ]
  },
  {
   "cell_type": "code",
   "execution_count": 0,
   "metadata": {
    "colab": {},
    "colab_type": "code",
    "id": "ZNeqgCRfubBT"
   },
   "outputs": [],
   "source": [
    "#Creting a dataset with timesteps and features"
   ]
  },
  {
   "cell_type": "code",
   "execution_count": 0,
   "metadata": {
    "colab": {},
    "colab_type": "code",
    "id": "TdGZWVi2ubBW"
   },
   "outputs": [],
   "source": [
    "X_train = []\n",
    "y_train = []\n",
    "\n",
    "for i in range(60, 999): \n",
    "    X_train.append(training_set_scaled[i-60:i, 0])\n",
    "    y_train.append(training_set_scaled[i, 12])\n",
    "X_train, y_train = np.array(X_train), np.array(y_train)"
   ]
  },
  {
   "cell_type": "code",
   "execution_count": 0,
   "metadata": {
    "colab": {},
    "colab_type": "code",
    "id": "byYudAPwubBa"
   },
   "outputs": [],
   "source": [
    "#Reshaping the 2-D array to a 3-D array. "
   ]
  },
  {
   "cell_type": "code",
   "execution_count": 0,
   "metadata": {
    "colab": {},
    "colab_type": "code",
    "id": "hkHjXXOCU9P4"
   },
   "outputs": [],
   "source": [
    "y_train"
   ]
  },
  {
   "cell_type": "code",
   "execution_count": 0,
   "metadata": {
    "colab": {},
    "colab_type": "code",
    "id": "Xd_yQuyXubBd"
   },
   "outputs": [],
   "source": [
    "X_train = np.reshape(X_train, (X_train.shape[0], X_train.shape[1], 1))"
   ]
  },
  {
   "cell_type": "code",
   "execution_count": 0,
   "metadata": {
    "colab": {},
    "colab_type": "code",
    "id": "ioNioCXwubBh"
   },
   "outputs": [],
   "source": [
    "#Building the RNN(LSTM)"
   ]
  },
  {
   "cell_type": "code",
   "execution_count": 0,
   "metadata": {
    "colab": {},
    "colab_type": "code",
    "id": "Oru6J406ubBm"
   },
   "outputs": [],
   "source": [
    "#Importing the libraries for building the RNN"
   ]
  },
  {
   "cell_type": "code",
   "execution_count": 0,
   "metadata": {
    "colab": {},
    "colab_type": "code",
    "id": "_FLrkZzZubBr"
   },
   "outputs": [],
   "source": [
    "from keras.models import Sequential\n",
    "from keras.layers import Dense, LSTM, Dropout,Flatten"
   ]
  },
  {
   "cell_type": "code",
   "execution_count": 0,
   "metadata": {
    "colab": {},
    "colab_type": "code",
    "id": "WiI-1gmLubBu"
   },
   "outputs": [],
   "source": [
    "#Building the RNN"
   ]
  },
  {
   "cell_type": "code",
   "execution_count": 0,
   "metadata": {
    "colab": {},
    "colab_type": "code",
    "id": "yn7Q9af9ubBy"
   },
   "outputs": [],
   "source": [
    "# RNN- 4 LSTM Layers, each with a Dropout layer associated with it and a Dense Layer as the output layer."
   ]
  },
  {
   "cell_type": "code",
   "execution_count": 285,
   "metadata": {
    "colab": {
     "base_uri": "https://localhost:8080/",
     "height": 35
    },
    "colab_type": "code",
    "id": "-iJSkETVXlRe",
    "outputId": "a0934754-8a85-45dd-8175-696e57acefa0"
   },
   "outputs": [
    {
     "data": {
      "text/plain": [
       "60"
      ]
     },
     "execution_count": 285,
     "metadata": {
      "tags": []
     },
     "output_type": "execute_result"
    }
   ],
   "source": [
    "X_train.shape[1]"
   ]
  },
  {
   "cell_type": "code",
   "execution_count": 0,
   "metadata": {
    "colab": {},
    "colab_type": "code",
    "id": "GO_wPOF0ubB1"
   },
   "outputs": [],
   "source": [
    "regressor = Sequential()\n",
    "regressor.add(LSTM(units = 50, return_sequences = True, input_shape = (X_train.shape[1],1) ) )\n",
    "regressor.add(Dropout(rate = 0.2))\n",
    "regressor.add(LSTM(units = 50, return_sequences = True ) )\n",
    "regressor.add(Dropout(rate = 0.2))\n",
    "regressor.add(LSTM(units = 50, return_sequences = True ) )\n",
    "regressor.add(Dropout(rate = 0.2))\n",
    "regressor.add(LSTM(units = 50 ) )\n",
    "regressor.add(Dropout(rate = 0.2))\n",
    "\n",
    "regressor.add(Dense(units = 1))"
   ]
  },
  {
   "cell_type": "code",
   "execution_count": 0,
   "metadata": {
    "colab": {},
    "colab_type": "code",
    "id": "VH_73I3TubCN"
   },
   "outputs": [],
   "source": [
    "#Compiling the RNN"
   ]
  },
  {
   "cell_type": "code",
   "execution_count": 0,
   "metadata": {
    "colab": {},
    "colab_type": "code",
    "id": "AV_6mG7CubCR"
   },
   "outputs": [],
   "source": [
    "regressor.compile(optimizer='adam', loss = 'mean_squared_error')"
   ]
  },
  {
   "cell_type": "code",
   "execution_count": 0,
   "metadata": {
    "colab": {},
    "colab_type": "code",
    "id": "Bw8EQmQcubCU"
   },
   "outputs": [],
   "source": [
    "#Fitting the data to the RNN Model"
   ]
  },
  {
   "cell_type": "code",
   "execution_count": 0,
   "metadata": {
    "colab": {},
    "colab_type": "code",
    "id": "ikjWsayvXztY"
   },
   "outputs": [],
   "source": [
    "X_train = X_train.reshape((X_train.shape[0], X_train.shape[1],1))"
   ]
  },
  {
   "cell_type": "code",
   "execution_count": 302,
   "metadata": {
    "colab": {
     "base_uri": "https://localhost:8080/",
     "height": 35
    },
    "colab_type": "code",
    "id": "PHWQoHOmYYdX",
    "outputId": "436ee9ce-308d-4ef2-fe5e-bc52da127514"
   },
   "outputs": [
    {
     "name": "stdout",
     "output_type": "stream",
     "text": [
      "(939, 60, 1) (939,)\n"
     ]
    }
   ],
   "source": [
    "print(X_train.shape,y_train.shape)"
   ]
  },
  {
   "cell_type": "code",
   "execution_count": 328,
   "metadata": {
    "colab": {
     "base_uri": "https://localhost:8080/",
     "height": 1000
    },
    "colab_type": "code",
    "id": "uUBnIeuoubCW",
    "outputId": "8520a547-9934-4e7b-aace-411c7ab41f58"
   },
   "outputs": [
    {
     "name": "stdout",
     "output_type": "stream",
     "text": [
      "Epoch 1/100\n",
      "939/939 [==============================] - 5s 6ms/step - loss: 0.0164\n",
      "Epoch 3/100\n",
      "939/939 [==============================] - 5s 6ms/step - loss: 0.0158\n",
      "Epoch 4/100\n",
      "939/939 [==============================] - 5s 6ms/step - loss: 0.0161\n",
      "Epoch 5/100\n",
      "939/939 [==============================] - 5s 6ms/step - loss: 0.0163\n",
      "Epoch 6/100\n",
      "939/939 [==============================] - 5s 6ms/step - loss: 0.0159\n",
      "Epoch 7/100\n",
      "939/939 [==============================] - 5s 6ms/step - loss: 0.0156\n",
      "Epoch 8/100\n",
      "939/939 [==============================] - 5s 6ms/step - loss: 0.0159\n",
      "Epoch 9/100\n",
      "939/939 [==============================] - 5s 6ms/step - loss: 0.0162\n",
      "Epoch 10/100\n",
      "939/939 [==============================] - 5s 6ms/step - loss: 0.0161\n",
      "Epoch 11/100\n",
      "939/939 [==============================] - 5s 6ms/step - loss: 0.0162\n",
      "Epoch 12/100\n",
      "939/939 [==============================] - 5s 6ms/step - loss: 0.0162\n",
      "Epoch 13/100\n",
      "939/939 [==============================] - 5s 6ms/step - loss: 0.0165\n",
      "Epoch 14/100\n",
      "939/939 [==============================] - 5s 6ms/step - loss: 0.0163\n",
      "Epoch 15/100\n",
      "939/939 [==============================] - 5s 6ms/step - loss: 0.0163\n",
      "Epoch 16/100\n",
      "939/939 [==============================] - 5s 6ms/step - loss: 0.0158\n",
      "Epoch 17/100\n",
      "939/939 [==============================] - 5s 6ms/step - loss: 0.0166\n",
      "Epoch 18/100\n",
      "939/939 [==============================] - 5s 6ms/step - loss: 0.0162\n",
      "Epoch 19/100\n",
      "939/939 [==============================] - 5s 6ms/step - loss: 0.0157\n",
      "Epoch 20/100\n",
      "939/939 [==============================] - 5s 6ms/step - loss: 0.0158\n",
      "Epoch 21/100\n",
      "939/939 [==============================] - 5s 6ms/step - loss: 0.0160\n",
      "Epoch 22/100\n",
      "939/939 [==============================] - 5s 6ms/step - loss: 0.0162\n",
      "Epoch 23/100\n",
      "939/939 [==============================] - 5s 6ms/step - loss: 0.0158\n",
      "Epoch 24/100\n",
      "939/939 [==============================] - 5s 6ms/step - loss: 0.0162\n",
      "Epoch 25/100\n",
      "939/939 [==============================] - 5s 6ms/step - loss: 0.0162\n",
      "Epoch 26/100\n",
      "939/939 [==============================] - 5s 6ms/step - loss: 0.0163\n",
      "Epoch 27/100\n",
      "939/939 [==============================] - 5s 6ms/step - loss: 0.0162\n",
      "Epoch 28/100\n",
      "939/939 [==============================] - 5s 6ms/step - loss: 0.0160\n",
      "Epoch 29/100\n",
      "939/939 [==============================] - 5s 6ms/step - loss: 0.0162\n",
      "Epoch 30/100\n",
      "939/939 [==============================] - 5s 6ms/step - loss: 0.0160\n",
      "Epoch 31/100\n",
      "939/939 [==============================] - 5s 6ms/step - loss: 0.0158\n",
      "Epoch 32/100\n",
      "939/939 [==============================] - 5s 6ms/step - loss: 0.0159\n",
      "Epoch 33/100\n",
      "939/939 [==============================] - 5s 6ms/step - loss: 0.0160\n",
      "Epoch 34/100\n",
      "939/939 [==============================] - 5s 6ms/step - loss: 0.0167\n",
      "Epoch 35/100\n",
      "939/939 [==============================] - 5s 6ms/step - loss: 0.0164\n",
      "Epoch 36/100\n",
      "939/939 [==============================] - 5s 6ms/step - loss: 0.0160\n",
      "Epoch 37/100\n",
      "939/939 [==============================] - 5s 6ms/step - loss: 0.0161\n",
      "Epoch 38/100\n",
      "939/939 [==============================] - 5s 6ms/step - loss: 0.0157\n",
      "Epoch 39/100\n",
      "939/939 [==============================] - 5s 6ms/step - loss: 0.0164\n",
      "Epoch 40/100\n",
      "939/939 [==============================] - 5s 6ms/step - loss: 0.0161\n",
      "Epoch 41/100\n",
      "939/939 [==============================] - 5s 6ms/step - loss: 0.0159\n",
      "Epoch 42/100\n",
      "939/939 [==============================] - 5s 6ms/step - loss: 0.0158\n",
      "Epoch 43/100\n",
      "939/939 [==============================] - 5s 6ms/step - loss: 0.0163\n",
      "Epoch 44/100\n",
      "939/939 [==============================] - 5s 6ms/step - loss: 0.0158\n",
      "Epoch 45/100\n",
      "939/939 [==============================] - 5s 6ms/step - loss: 0.0160\n",
      "Epoch 46/100\n",
      "939/939 [==============================] - 5s 6ms/step - loss: 0.0161\n",
      "Epoch 47/100\n",
      "939/939 [==============================] - 5s 6ms/step - loss: 0.0162\n",
      "Epoch 48/100\n",
      "939/939 [==============================] - 5s 6ms/step - loss: 0.0159\n",
      "Epoch 49/100\n",
      "939/939 [==============================] - 5s 6ms/step - loss: 0.0161\n",
      "Epoch 50/100\n",
      "939/939 [==============================] - 5s 6ms/step - loss: 0.0161\n",
      "Epoch 51/100\n",
      "939/939 [==============================] - 5s 6ms/step - loss: 0.0161\n",
      "Epoch 52/100\n",
      "939/939 [==============================] - 5s 6ms/step - loss: 0.0161\n",
      "Epoch 53/100\n",
      "939/939 [==============================] - 5s 6ms/step - loss: 0.0161\n",
      "Epoch 54/100\n",
      "939/939 [==============================] - 5s 6ms/step - loss: 0.0160\n",
      "Epoch 55/100\n",
      "939/939 [==============================] - 5s 6ms/step - loss: 0.0159\n",
      "Epoch 56/100\n",
      "939/939 [==============================] - 5s 6ms/step - loss: 0.0158\n",
      "Epoch 57/100\n",
      "939/939 [==============================] - 5s 6ms/step - loss: 0.0159\n",
      "Epoch 58/100\n",
      "939/939 [==============================] - 5s 6ms/step - loss: 0.0161\n",
      "Epoch 59/100\n",
      "939/939 [==============================] - 5s 6ms/step - loss: 0.0157\n",
      "Epoch 60/100\n",
      "939/939 [==============================] - 5s 6ms/step - loss: 0.0160\n",
      "Epoch 61/100\n",
      "939/939 [==============================] - 6s 6ms/step - loss: 0.0158\n",
      "Epoch 62/100\n",
      "939/939 [==============================] - 5s 6ms/step - loss: 0.0158\n",
      "Epoch 63/100\n",
      "939/939 [==============================] - 5s 6ms/step - loss: 0.0162\n",
      "Epoch 64/100\n",
      "939/939 [==============================] - 5s 6ms/step - loss: 0.0156\n",
      "Epoch 65/100\n",
      "939/939 [==============================] - 5s 6ms/step - loss: 0.0160\n",
      "Epoch 66/100\n",
      "939/939 [==============================] - 5s 6ms/step - loss: 0.0162\n",
      "Epoch 67/100\n",
      "939/939 [==============================] - 5s 6ms/step - loss: 0.0163\n",
      "Epoch 68/100\n",
      "939/939 [==============================] - 5s 6ms/step - loss: 0.0165\n",
      "Epoch 69/100\n",
      "939/939 [==============================] - 5s 6ms/step - loss: 0.0160\n",
      "Epoch 70/100\n",
      "939/939 [==============================] - 5s 6ms/step - loss: 0.0162\n",
      "Epoch 71/100\n",
      "939/939 [==============================] - 6s 6ms/step - loss: 0.0164\n",
      "Epoch 72/100\n",
      "939/939 [==============================] - 6s 6ms/step - loss: 0.0159\n",
      "Epoch 73/100\n",
      "939/939 [==============================] - 6s 6ms/step - loss: 0.0163\n",
      "Epoch 74/100\n",
      "939/939 [==============================] - 5s 6ms/step - loss: 0.0160\n",
      "Epoch 75/100\n",
      "939/939 [==============================] - 6s 6ms/step - loss: 0.0161\n",
      "Epoch 76/100\n",
      "939/939 [==============================] - 5s 6ms/step - loss: 0.0162\n",
      "Epoch 77/100\n",
      "939/939 [==============================] - 5s 6ms/step - loss: 0.0158\n",
      "Epoch 78/100\n",
      "939/939 [==============================] - 6s 6ms/step - loss: 0.0159\n",
      "Epoch 79/100\n",
      "939/939 [==============================] - 6s 6ms/step - loss: 0.0157\n",
      "Epoch 80/100\n",
      "939/939 [==============================] - 5s 6ms/step - loss: 0.0159\n",
      "Epoch 81/100\n",
      "939/939 [==============================] - 5s 6ms/step - loss: 0.0161\n",
      "Epoch 82/100\n",
      "939/939 [==============================] - 5s 6ms/step - loss: 0.0162\n",
      "Epoch 83/100\n",
      "939/939 [==============================] - 5s 6ms/step - loss: 0.0157\n",
      "Epoch 84/100\n",
      "939/939 [==============================] - 6s 6ms/step - loss: 0.0160\n",
      "Epoch 85/100\n",
      "939/939 [==============================] - 5s 6ms/step - loss: 0.0161\n",
      "Epoch 86/100\n",
      "939/939 [==============================] - 6s 6ms/step - loss: 0.0163\n",
      "Epoch 87/100\n",
      "939/939 [==============================] - 5s 6ms/step - loss: 0.0163\n",
      "Epoch 88/100\n",
      "939/939 [==============================] - 5s 6ms/step - loss: 0.0159\n",
      "Epoch 89/100\n",
      "939/939 [==============================] - 5s 6ms/step - loss: 0.0159\n",
      "Epoch 90/100\n",
      "939/939 [==============================] - 6s 6ms/step - loss: 0.0157\n",
      "Epoch 91/100\n",
      "939/939 [==============================] - 5s 6ms/step - loss: 0.0156\n",
      "Epoch 92/100\n",
      "939/939 [==============================] - 5s 6ms/step - loss: 0.0163\n",
      "Epoch 93/100\n",
      "939/939 [==============================] - 5s 6ms/step - loss: 0.0161\n",
      "Epoch 94/100\n",
      "939/939 [==============================] - 5s 6ms/step - loss: 0.0157\n",
      "Epoch 95/100\n",
      "939/939 [==============================] - 6s 6ms/step - loss: 0.0156\n",
      "Epoch 96/100\n",
      "939/939 [==============================] - 6s 6ms/step - loss: 0.0160\n",
      "Epoch 97/100\n",
      "939/939 [==============================] - 6s 6ms/step - loss: 0.0160\n",
      "Epoch 98/100\n",
      "939/939 [==============================] - 5s 6ms/step - loss: 0.0160\n",
      "Epoch 99/100\n",
      "939/939 [==============================] - 5s 6ms/step - loss: 0.0160\n",
      "Epoch 100/100\n",
      "939/939 [==============================] - 5s 6ms/step - loss: 0.0159\n"
     ]
    },
    {
     "data": {
      "text/plain": [
       "<keras.callbacks.History at 0x7f0819704240>"
      ]
     },
     "execution_count": 328,
     "metadata": {
      "tags": []
     },
     "output_type": "execute_result"
    }
   ],
   "source": [
    "regressor.fit(X_train, y_train, epochs = 100, batch_size= 32) "
   ]
  },
  {
   "cell_type": "code",
   "execution_count": 244,
   "metadata": {
    "colab": {
     "base_uri": "https://localhost:8080/",
     "height": 35
    },
    "colab_type": "code",
    "id": "4d1h-5ECubCY",
    "outputId": "7466e45f-9149-436e-ef2a-ee8bb13d143c"
   },
   "outputs": [
    {
     "data": {
      "text/plain": [
       "(1224, 12)"
      ]
     },
     "execution_count": 244,
     "metadata": {
      "tags": []
     },
     "output_type": "execute_result"
    }
   ],
   "source": [
    "dataset.shape"
   ]
  },
  {
   "cell_type": "code",
   "execution_count": 304,
   "metadata": {
    "colab": {
     "base_uri": "https://localhost:8080/",
     "height": 145
    },
    "colab_type": "code",
    "id": "2ZfOhipXubCa",
    "outputId": "33155f66-cb9c-421e-e5a9-59bea41b5ec5"
   },
   "outputs": [
    {
     "name": "stdout",
     "output_type": "stream",
     "text": [
      "[['May' 89.355 27.274 ... 5.64 23.312 4.4038]\n",
      " ['Jun' 167.944 25.094 ... 4.72 23.724 5.0754]\n",
      " ['Jul' 96.569 22.991 ... 4.26 23.032 5.633]\n",
      " ...\n",
      " ['Oct' 183.967 25.093 ... 4.17 22.751 9.4179]\n",
      " ['Nov' 35.172 23.67 ... 3.73 20.605 3.4919]\n",
      " ['Dec' 4.541 22.776 ... 3.6 18.461 1.0509]]\n"
     ]
    }
   ],
   "source": [
    "#Creating the test set\n",
    "print(dataset[len(values)-len(dataset_test)-60:].values)"
   ]
  },
  {
   "cell_type": "code",
   "execution_count": 0,
   "metadata": {
    "colab": {},
    "colab_type": "code",
    "id": "7O4c5HL5ubCf"
   },
   "outputs": [],
   "source": [
    "inputs = dataset[len(values)-len(dataset_test)-60:].values"
   ]
  },
  {
   "cell_type": "code",
   "execution_count": 306,
   "metadata": {
    "colab": {
     "base_uri": "https://localhost:8080/",
     "height": 35
    },
    "colab_type": "code",
    "id": "Fnkp05O5ubCi",
    "outputId": "e1162116-2886-44db-cef2-2bdba11919ba"
   },
   "outputs": [
    {
     "data": {
      "text/plain": [
       "(284, 12)"
      ]
     },
     "execution_count": 306,
     "metadata": {
      "tags": []
     },
     "output_type": "execute_result"
    }
   ],
   "source": [
    "inputs.shape"
   ]
  },
  {
   "cell_type": "code",
   "execution_count": 0,
   "metadata": {
    "colab": {},
    "colab_type": "code",
    "id": "bzPL13UOubCn"
   },
   "outputs": [],
   "source": [
    "#Reshaping the import"
   ]
  },
  {
   "cell_type": "code",
   "execution_count": 307,
   "metadata": {
    "colab": {
     "base_uri": "https://localhost:8080/",
     "height": 274
    },
    "colab_type": "code",
    "id": "XtNubDB0ubCp",
    "outputId": "ea80a9aa-6096-4b83-c978-8c5de500ae8d"
   },
   "outputs": [
    {
     "name": "stdout",
     "output_type": "stream",
     "text": [
      "[[ 0.      0.      0.     ...  5.64   23.312   4.4038]\n",
      " [ 0.      0.      0.     ...  4.72   23.724   5.0754]\n",
      " [ 0.      0.      0.     ...  4.26   23.032   5.633 ]\n",
      " ...\n",
      " [ 0.      0.      0.     ...  4.17   22.751   9.4179]\n",
      " [ 0.      0.      0.     ...  3.73   20.605   3.4919]\n",
      " [ 0.      0.      1.     ...  3.6    18.461   1.0509]]\n"
     ]
    },
    {
     "name": "stderr",
     "output_type": "stream",
     "text": [
      "/usr/local/lib/python3.6/dist-packages/sklearn/preprocessing/_encoders.py:415: FutureWarning: The handling of integer data will change in version 0.22. Currently, the categories are determined based on the range [0, max(values)], while in the future they will be determined based on the unique values.\n",
      "If you want the future behaviour and silence this warning, you can specify \"categories='auto'\".\n",
      "In case you used a LabelEncoder before this OneHotEncoder to convert the categories to integers, then you can now use the OneHotEncoder directly.\n",
      "  warnings.warn(msg, FutureWarning)\n",
      "/usr/local/lib/python3.6/dist-packages/sklearn/preprocessing/_encoders.py:451: DeprecationWarning: The 'categorical_features' keyword is deprecated in version 0.20 and will be removed in 0.22. You can use the ColumnTransformer instead.\n",
      "  \"use the ColumnTransformer instead.\", DeprecationWarning)\n"
     ]
    }
   ],
   "source": [
    "#inputs = inputs.reshape(-1,1)\n",
    "encoder=LabelEncoder()\n",
    "inputs[:,0] = encoder.fit_transform(inputs[:,0])\n",
    "onehotencode = OneHotEncoder(categorical_features = [0])\n",
    "inputs = onehotencode.fit_transform(inputs).toarray()\n",
    "print(inputs)\n"
   ]
  },
  {
   "cell_type": "code",
   "execution_count": 262,
   "metadata": {
    "colab": {
     "base_uri": "https://localhost:8080/",
     "height": 145
    },
    "colab_type": "code",
    "id": "86D2eavbubCt",
    "outputId": "14fb5780-6707-42b3-853b-12b4d7483e91"
   },
   "outputs": [
    {
     "name": "stdout",
     "output_type": "stream",
     "text": [
      "[[ 0.      0.      0.     ...  5.64   23.312   4.4038]\n",
      " [ 0.      0.      0.     ...  4.72   23.724   5.0754]\n",
      " [ 0.      0.      0.     ...  4.26   23.032   5.633 ]\n",
      " ...\n",
      " [ 0.      0.      0.     ...  4.17   22.751   9.4179]\n",
      " [ 0.      0.      0.     ...  3.73   20.605   3.4919]\n",
      " [ 0.      0.      1.     ...  3.6    18.461   1.0509]]\n"
     ]
    }
   ],
   "source": [
    "#Feature transforming the inputs\n",
    "print(inputs)"
   ]
  },
  {
   "cell_type": "code",
   "execution_count": 0,
   "metadata": {
    "colab": {},
    "colab_type": "code",
    "id": "YG0j-4obubCv"
   },
   "outputs": [],
   "source": [
    "inputs= sc.transform(inputs)"
   ]
  },
  {
   "cell_type": "code",
   "execution_count": 0,
   "metadata": {
    "colab": {},
    "colab_type": "code",
    "id": "cZ3KRrububCx"
   },
   "outputs": [],
   "source": [
    "#Creating the 2D data frame of previous 60 timesteps. "
   ]
  },
  {
   "cell_type": "code",
   "execution_count": 0,
   "metadata": {
    "colab": {},
    "colab_type": "code",
    "id": "rTlr91onubC0"
   },
   "outputs": [],
   "source": [
    "X_test = []\n",
    "for i in range (60, 284):\n",
    "    X_test.append(inputs[i-60:i, 0])\n",
    "    \n",
    "X_test = np.array(X_test)"
   ]
  },
  {
   "cell_type": "code",
   "execution_count": 0,
   "metadata": {
    "colab": {},
    "colab_type": "code",
    "id": "uymZ2IzyubC8"
   },
   "outputs": [],
   "source": [
    "#Reshaping the dataset into a 3-D array for the RNN "
   ]
  },
  {
   "cell_type": "code",
   "execution_count": 0,
   "metadata": {
    "colab": {},
    "colab_type": "code",
    "id": "uPN0NT_vubDA"
   },
   "outputs": [],
   "source": [
    "X_test = np.reshape(X_test, (X_test.shape[0], X_test.shape[1], 1))"
   ]
  },
  {
   "cell_type": "code",
   "execution_count": 0,
   "metadata": {
    "colab": {},
    "colab_type": "code",
    "id": "d0fUTb4iubDD"
   },
   "outputs": [],
   "source": [
    "#Making predictions from the model."
   ]
  },
  {
   "cell_type": "code",
   "execution_count": 0,
   "metadata": {
    "colab": {},
    "colab_type": "code",
    "id": "sDP8ZGHRubDI"
   },
   "outputs": [],
   "source": [
    "predicted_rainfall =  regressor.predict(X_test)"
   ]
  },
  {
   "cell_type": "code",
   "execution_count": 0,
   "metadata": {
    "colab": {},
    "colab_type": "code",
    "id": "wNsaCB-jubDP"
   },
   "outputs": [],
   "source": [
    "#Inverse transforming the predicted valuess from the model"
   ]
  },
  {
   "cell_type": "code",
   "execution_count": 0,
   "metadata": {
    "colab": {},
    "colab_type": "code",
    "id": "9i95LsiZubDR"
   },
   "outputs": [],
   "source": [
    "#predicted_rainfall = sc.inverse_transform(predicted_rainfall)"
   ]
  },
  {
   "cell_type": "code",
   "execution_count": 312,
   "metadata": {
    "colab": {
     "base_uri": "https://localhost:8080/",
     "height": 35
    },
    "colab_type": "code",
    "id": "QsVeEdXcUj1H",
    "outputId": "ffa9eb20-0122-4ac9-ac1b-678ce03fcdc9"
   },
   "outputs": [
    {
     "name": "stdout",
     "output_type": "stream",
     "text": [
      "360.945 0.0\n"
     ]
    }
   ],
   "source": [
    "print(rainfall_max,rainfall_min)"
   ]
  },
  {
   "cell_type": "code",
   "execution_count": 330,
   "metadata": {
    "colab": {
     "base_uri": "https://localhost:8080/",
     "height": 1000
    },
    "colab_type": "code",
    "id": "S9bplQcyUCrW",
    "outputId": "3411f6eb-ec6a-4d31-f6e7-bf26b312fd2a"
   },
   "outputs": [
    {
     "data": {
      "text/plain": [
       "array([[0.34672588],\n",
       "       [0.21291858],\n",
       "       [0.2619265 ],\n",
       "       [0.2670996 ],\n",
       "       [0.3126263 ],\n",
       "       [0.43918005],\n",
       "       [0.22639905],\n",
       "       [0.08377839],\n",
       "       [0.03035225],\n",
       "       [0.01496734],\n",
       "       [0.03626734],\n",
       "       [0.12084562],\n",
       "       [0.34672588],\n",
       "       [0.21291858],\n",
       "       [0.2619265 ],\n",
       "       [0.2670996 ],\n",
       "       [0.3126263 ],\n",
       "       [0.43918005],\n",
       "       [0.22639905],\n",
       "       [0.08377839],\n",
       "       [0.03035225],\n",
       "       [0.01496734],\n",
       "       [0.03626734],\n",
       "       [0.12084562],\n",
       "       [0.34672588],\n",
       "       [0.21291858],\n",
       "       [0.2619265 ],\n",
       "       [0.2670996 ],\n",
       "       [0.3126263 ],\n",
       "       [0.43918005],\n",
       "       [0.22639905],\n",
       "       [0.08377839],\n",
       "       [0.03035225],\n",
       "       [0.01496734],\n",
       "       [0.03626734],\n",
       "       [0.12084562],\n",
       "       [0.34672588],\n",
       "       [0.21291858],\n",
       "       [0.2619265 ],\n",
       "       [0.2670996 ],\n",
       "       [0.3126263 ],\n",
       "       [0.43918005],\n",
       "       [0.22639905],\n",
       "       [0.08377839],\n",
       "       [0.03035225],\n",
       "       [0.01496734],\n",
       "       [0.03626734],\n",
       "       [0.12084562],\n",
       "       [0.34672588],\n",
       "       [0.21291858],\n",
       "       [0.2619265 ],\n",
       "       [0.2670996 ],\n",
       "       [0.3126263 ],\n",
       "       [0.43918005],\n",
       "       [0.22639905],\n",
       "       [0.08377839],\n",
       "       [0.03035225],\n",
       "       [0.01496734],\n",
       "       [0.03626734],\n",
       "       [0.12084562],\n",
       "       [0.34672588],\n",
       "       [0.21291858],\n",
       "       [0.2619265 ],\n",
       "       [0.2670996 ],\n",
       "       [0.3126263 ],\n",
       "       [0.43918005],\n",
       "       [0.22639905],\n",
       "       [0.08377839],\n",
       "       [0.03035225],\n",
       "       [0.01496734],\n",
       "       [0.03626734],\n",
       "       [0.12084562],\n",
       "       [0.34672588],\n",
       "       [0.21291858],\n",
       "       [0.2619265 ],\n",
       "       [0.2670996 ],\n",
       "       [0.3126263 ],\n",
       "       [0.43918005],\n",
       "       [0.22639905],\n",
       "       [0.08377839],\n",
       "       [0.03035225],\n",
       "       [0.01496734],\n",
       "       [0.03626734],\n",
       "       [0.12084562],\n",
       "       [0.34672588],\n",
       "       [0.21291858],\n",
       "       [0.2619265 ],\n",
       "       [0.2670996 ],\n",
       "       [0.3126263 ],\n",
       "       [0.43918005],\n",
       "       [0.22639905],\n",
       "       [0.08377839],\n",
       "       [0.03035225],\n",
       "       [0.01496734],\n",
       "       [0.03626734],\n",
       "       [0.12084562],\n",
       "       [0.34672588],\n",
       "       [0.21291858],\n",
       "       [0.2619265 ],\n",
       "       [0.2670996 ],\n",
       "       [0.3126263 ],\n",
       "       [0.43918005],\n",
       "       [0.22639905],\n",
       "       [0.08377839],\n",
       "       [0.03035225],\n",
       "       [0.01496734],\n",
       "       [0.03626734],\n",
       "       [0.12084562],\n",
       "       [0.34672588],\n",
       "       [0.21291858],\n",
       "       [0.2619265 ],\n",
       "       [0.2670996 ],\n",
       "       [0.3126263 ],\n",
       "       [0.43918005],\n",
       "       [0.22639905],\n",
       "       [0.08377839],\n",
       "       [0.03035225],\n",
       "       [0.01496734],\n",
       "       [0.03626734],\n",
       "       [0.12084562],\n",
       "       [0.34672588],\n",
       "       [0.21291858],\n",
       "       [0.2619265 ],\n",
       "       [0.2670996 ],\n",
       "       [0.3126263 ],\n",
       "       [0.43918005],\n",
       "       [0.22639905],\n",
       "       [0.08377839],\n",
       "       [0.03035225],\n",
       "       [0.01496734],\n",
       "       [0.03626734],\n",
       "       [0.12084562],\n",
       "       [0.34672588],\n",
       "       [0.21291858],\n",
       "       [0.2619265 ],\n",
       "       [0.2670996 ],\n",
       "       [0.3126263 ],\n",
       "       [0.43918005],\n",
       "       [0.22639905],\n",
       "       [0.08377839],\n",
       "       [0.03035225],\n",
       "       [0.01496734],\n",
       "       [0.03626734],\n",
       "       [0.12084562],\n",
       "       [0.34672588],\n",
       "       [0.21291858],\n",
       "       [0.2619265 ],\n",
       "       [0.2670996 ],\n",
       "       [0.3126263 ],\n",
       "       [0.43918005],\n",
       "       [0.22639905],\n",
       "       [0.08377839],\n",
       "       [0.03035225],\n",
       "       [0.01496734],\n",
       "       [0.03626734],\n",
       "       [0.12084562],\n",
       "       [0.34672588],\n",
       "       [0.21291858],\n",
       "       [0.2619265 ],\n",
       "       [0.2670996 ],\n",
       "       [0.3126263 ],\n",
       "       [0.43918005],\n",
       "       [0.22639905],\n",
       "       [0.08377839],\n",
       "       [0.03035225],\n",
       "       [0.01496734],\n",
       "       [0.03626734],\n",
       "       [0.12084562],\n",
       "       [0.34672588],\n",
       "       [0.21291858],\n",
       "       [0.2619265 ],\n",
       "       [0.2670996 ],\n",
       "       [0.3126263 ],\n",
       "       [0.43918005],\n",
       "       [0.22639905],\n",
       "       [0.08377839],\n",
       "       [0.03035225],\n",
       "       [0.01496734],\n",
       "       [0.03626734],\n",
       "       [0.12084562],\n",
       "       [0.34672588],\n",
       "       [0.21291858],\n",
       "       [0.2619265 ],\n",
       "       [0.2670996 ],\n",
       "       [0.3126263 ],\n",
       "       [0.43918005],\n",
       "       [0.22639905],\n",
       "       [0.08377839],\n",
       "       [0.03035225],\n",
       "       [0.01496734],\n",
       "       [0.03626734],\n",
       "       [0.12084562],\n",
       "       [0.34672588],\n",
       "       [0.21291858],\n",
       "       [0.2619265 ],\n",
       "       [0.2670996 ],\n",
       "       [0.3126263 ],\n",
       "       [0.43918005],\n",
       "       [0.22639905],\n",
       "       [0.08377839],\n",
       "       [0.03035225],\n",
       "       [0.01496734],\n",
       "       [0.03626734],\n",
       "       [0.12084562],\n",
       "       [0.34672588],\n",
       "       [0.21291858],\n",
       "       [0.2619265 ],\n",
       "       [0.2670996 ],\n",
       "       [0.3126263 ],\n",
       "       [0.43918005],\n",
       "       [0.22639905],\n",
       "       [0.08377839],\n",
       "       [0.03035225],\n",
       "       [0.01496734],\n",
       "       [0.03626734],\n",
       "       [0.12084562],\n",
       "       [0.34672588],\n",
       "       [0.21291858],\n",
       "       [0.2619265 ],\n",
       "       [0.2670996 ],\n",
       "       [0.3126263 ],\n",
       "       [0.43918005],\n",
       "       [0.22639905],\n",
       "       [0.08377839]], dtype=float32)"
      ]
     },
     "execution_count": 330,
     "metadata": {
      "tags": []
     },
     "output_type": "execute_result"
    }
   ],
   "source": [
    "predicted_rainfall"
   ]
  },
  {
   "cell_type": "code",
   "execution_count": 0,
   "metadata": {
    "colab": {},
    "colab_type": "code",
    "id": "r0su9FV1QAgo"
   },
   "outputs": [],
   "source": [
    "predicted_rainfall = predicted_rainfall*(rainfall_max-rainfall_min) + rainfall_min"
   ]
  },
  {
   "cell_type": "code",
   "execution_count": 332,
   "metadata": {
    "colab": {
     "base_uri": "https://localhost:8080/",
     "height": 35
    },
    "colab_type": "code",
    "id": "wSCtd4C-QlHE",
    "outputId": "0138e76f-cd85-4230-a131-00f6506a8334"
   },
   "outputs": [
    {
     "data": {
      "text/plain": [
       "(224, 1)"
      ]
     },
     "execution_count": 332,
     "metadata": {
      "tags": []
     },
     "output_type": "execute_result"
    }
   ],
   "source": [
    "predicted_rainfall.shape"
   ]
  },
  {
   "cell_type": "code",
   "execution_count": 0,
   "metadata": {
    "colab": {},
    "colab_type": "code",
    "id": "iX3vJCkeubDT"
   },
   "outputs": [],
   "source": [
    "#Plotting the results- "
   ]
  },
  {
   "cell_type": "code",
   "execution_count": 336,
   "metadata": {
    "colab": {
     "base_uri": "https://localhost:8080/",
     "height": 283
    },
    "colab_type": "code",
    "id": "tnGXGL1HubDV",
    "outputId": "527d4908-c152-47e2-b021-33608740bc10"
   },
   "outputs": [
    {
     "data": {
      "text/plain": [
       "[<matplotlib.lines.Line2D at 0x7f08195d0748>]"
      ]
     },
     "execution_count": 336,
     "metadata": {
      "tags": []
     },
     "output_type": "execute_result"
    },
    {
     "data": {
      "image/png": "[encoded data removed]",
      "text/plain": [
       "<Figure size 432x288 with 1 Axes>"
      ]
     },
     "metadata": {
      "tags": []
     },
     "output_type": "display_data"
    }
   ],
   "source": [
    "plt.plot(dataset_test[:,12], color = 'red', label = 'Real_rainfall')\n",
    "plt.plot(predicted_rainfall[:], color = 'blue', label = 'predicted_rainfall')"
   ]
  },
  {
   "cell_type": "code",
   "execution_count": 0,
   "metadata": {
    "colab": {},
    "colab_type": "code",
    "id": "uwhx2pwjubDX"
   },
   "outputs": [],
   "source": [
    "#Caluculating the RMSE value"
   ]
  },
  {
   "cell_type": "code",
   "execution_count": 334,
   "metadata": {
    "colab": {
     "base_uri": "https://localhost:8080/",
     "height": 35
    },
    "colab_type": "code",
    "id": "Ndy3sYzlubDa",
    "outputId": "8d9cfd8f-51a5-43a5-e1a9-8565836d37ea"
   },
   "outputs": [
    {
     "name": "stdout",
     "output_type": "stream",
     "text": [
      "47.939644802035254\n"
     ]
    }
   ],
   "source": [
    "from sklearn.metrics import mean_squared_error\n",
    "\n",
    "from math import sqrt\n",
    "\n",
    "rmse = sqrt(mean_squared_error(dataset_test[:,12], predicted_rainfall))\n",
    "\n",
    "print(rmse)"
   ]
  },
  {
   "cell_type": "code",
   "execution_count": 183,
   "metadata": {
    "colab": {
     "base_uri": "https://localhost:8080/",
     "height": 35
    },
    "colab_type": "code",
    "id": "TeZIsNMpubDc",
    "outputId": "eec576a7-1fcc-4fa9-e2d0-dbf91a8147d3"
   },
   "outputs": [
    {
     "data": {
      "text/plain": [
       "(224, 1)"
      ]
     },
     "execution_count": 183,
     "metadata": {
      "tags": []
     },
     "output_type": "execute_result"
    }
   ],
   "source": [
    "predicted_rainfall.shape"
   ]
  },
  {
   "cell_type": "code",
   "execution_count": 190,
   "metadata": {
    "colab": {
     "base_uri": "https://localhost:8080/",
     "height": 35
    },
    "colab_type": "code",
    "id": "bDwuqSn4ubDe",
    "outputId": "a7912541-a0dd-49d9-a1ee-cec9204324cf"
   },
   "outputs": [
    {
     "data": {
      "text/plain": [
       "(224, 23)"
      ]
     },
     "execution_count": 190,
     "metadata": {
      "tags": []
     },
     "output_type": "execute_result"
    }
   ],
   "source": [
    "dataset_test.shape"
   ]
  },
  {
   "cell_type": "code",
   "execution_count": 316,
   "metadata": {
    "colab": {
     "base_uri": "https://localhost:8080/",
     "height": 308
    },
    "colab_type": "code",
    "id": "se8lqstfFcpn",
    "outputId": "63459b9e-8c26-4aa0-c2b6-eec675bf8794"
   },
   "outputs": [
    {
     "name": "stdout",
     "output_type": "stream",
     "text": [
      "[5.75 4.65 4.33 4.39 4.52 4.07 3.67 3.57 3.98 4.79 5.64 5.95 5.68 4.62\n",
      " 4.32 4.39 4.57 4.05 3.63 3.58 3.87 4.67 5.61 6.01 5.71 4.67 4.42 4.38\n",
      " 4.55 4.15 3.69 3.58 3.91 4.61 5.48 5.93 5.67 4.73 4.49 4.42 4.64 4.15\n",
      " 3.75 3.56 3.9  4.83 5.68 5.86 5.66 4.74 4.37 4.37 4.48 4.14 3.71 3.54\n",
      " 3.9  4.68 5.49 5.91 5.66 4.66 4.34 4.37 4.51 4.14 3.69 3.57 3.93 4.74\n",
      " 5.64 5.99 5.5  4.65 4.36 4.37 4.57 4.1  3.71 3.55 4.04 4.75 5.7  5.89\n",
      " 5.71 4.66 4.31 4.34 4.58 4.09 3.65 3.51 3.83 4.76 5.56 5.91 5.59 4.67\n",
      " 4.38 4.38 4.53 4.11 3.72 3.46 3.91 4.68 5.57 5.93 5.7  4.73 4.38 4.41\n",
      " 4.47 4.08 3.67 3.49 3.93 4.74 5.63 5.88 5.7  4.7  4.33 4.43 4.56 4.1\n",
      " 3.63 3.46 3.93 4.77 5.56 5.92 5.52 4.79 4.38 4.44 4.53 4.1  3.81 3.55\n",
      " 3.97 4.71 5.63 5.86 5.76 4.69 4.42 4.39 4.5  4.08 3.74 3.51 3.94 4.75\n",
      " 5.56 5.75 5.69 4.85 4.44 4.42 4.6  4.17 3.8  3.63 4.03 4.86 5.75 6.01\n",
      " 5.75 4.84 4.42 4.45 4.53 4.1  3.76 3.57 3.96 4.72 5.67 5.88 5.45 4.67\n",
      " 4.4  4.43 4.6  4.14 3.72 3.54 3.99 4.78 5.55 5.91 5.6  4.62 4.37 4.38\n",
      " 4.57 4.1  3.75 3.51 3.99 4.9  5.66 5.91 5.66 4.71 4.43 4.39 4.6  4.08\n",
      " 3.75 3.55 4.01 4.68 5.64 5.98 5.66 4.73 4.44 4.44 4.66 4.17 3.73 3.6 ]\n"
     ]
    }
   ],
   "source": [
    "print(dataset_test[:,20])"
   ]
  },
  {
   "cell_type": "code",
   "execution_count": 186,
   "metadata": {
    "colab": {
     "base_uri": "https://localhost:8080/",
     "height": 145
    },
    "colab_type": "code",
    "id": "11KNnvMLubDi",
    "outputId": "b6d5a957-f148-46ad-ee1a-a35e88cefab1"
   },
   "outputs": [
    {
     "data": {
      "text/plain": [
       "array([[ 0.    ,  0.    ,  0.    , ...,  5.75  , 23.565 ,  3.5322],\n",
       "       [ 0.    ,  0.    ,  0.    , ...,  4.65  , 23.523 ,  4.2019],\n",
       "       [ 0.    ,  0.    ,  0.    , ...,  4.33  , 23.32  ,  8.7236],\n",
       "       ...,\n",
       "       [ 0.    ,  0.    ,  0.    , ...,  4.17  , 22.751 ,  9.4179],\n",
       "       [ 0.    ,  0.    ,  0.    , ...,  3.73  , 20.605 ,  3.4919],\n",
       "       [ 0.    ,  0.    ,  1.    , ...,  3.6   , 18.461 ,  1.0509]])"
      ]
     },
     "execution_count": 186,
     "metadata": {
      "tags": []
     },
     "output_type": "execute_result"
    }
   ],
   "source": [
    "dataset_test"
   ]
  },
  {
   "cell_type": "code",
   "execution_count": 0,
   "metadata": {
    "colab": {},
    "colab_type": "code",
    "id": "L3TFcnaqubDk"
   },
   "outputs": [],
   "source": [
    "#saving the predicted values and real values"
   ]
  },
  {
   "cell_type": "code",
   "execution_count": 0,
   "metadata": {
    "colab": {},
    "colab_type": "code",
    "id": "MH1mnVgeubDo"
   },
   "outputs": [],
   "source": [
    "np.savetxt('predicted_rainfall.csv',predicted_rainfall , delimiter= ',')"
   ]
  },
  {
   "cell_type": "code",
   "execution_count": 0,
   "metadata": {
    "colab": {},
    "colab_type": "code",
    "id": "19uu7QriubDu"
   },
   "outputs": [],
   "source": [
    "np.savetxt('actual_rainfall.csv', dataset_test, delimiter= ',')"
   ]
  }
 ],
 "metadata": {
  "colab": {
   "collapsed_sections": [],
   "name": "Weather_Forecasting_LSTM.ipynb",
   "provenance": []
  },
  "kernelspec": {
   "display_name": "Python 3",
   "language": "python",
   "name": "python3"
  },
  "language_info": {
   "codemirror_mode": {
    "name": "ipython",
    "version": 3
   },
   "file_extension": ".py",
   "mimetype": "text/x-python",
   "name": "python",
   "nbconvert_exporter": "python",
   "pygments_lexer": "ipython3",
   "version": "3.5.5"
  }
 },
 "nbformat": 4,
 "nbformat_minor": 1
}
